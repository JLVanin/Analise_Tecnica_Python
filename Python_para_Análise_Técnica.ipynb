{
 "cells": [
  {
   "cell_type": "markdown",
   "metadata": {
    "id": "jTjlXnqTYvJQ"
   },
   "source": [
    "## Nesse código iremos aplicar os principais indicadores de análise técnica com Python através das bibliotecas:\n",
    "- Plotly - biblioteca para visualização de gráficos dinâmicos\n",
    "- TALib - biblioteca que calcula os indicadores de análise técnica em um frammework amigável para programadores\n",
    "- Investpy - captura de dados tratados de preço de abertura, fechamento, máxima, mímina e volume do mercado financeiro via API encapsulada em funções. "
   ]
  },
  {
   "cell_type": "markdown",
   "metadata": {
    "id": "jnHc-8nxgus0"
   },
   "source": [
    "## 1. Instalando Bibliotecas\n",
    "\n",
    "O comando !pip install instala as bibliotecas e todas suas dependências"
   ]
  },
  {
   "cell_type": "code",
   "execution_count": null,
   "metadata": {
    "colab": {
     "base_uri": "https://localhost:8080/"
    },
    "executionInfo": {
     "elapsed": 21901,
     "status": "ok",
     "timestamp": 1648493999959,
     "user": {
      "displayName": "Arthur Rufino",
      "photoUrl": "https://lh3.googleusercontent.com/a/default-user=s64",
      "userId": "15163371346106554840"
     },
     "user_tz": 180
    },
    "id": "tGB8aetUgsRX",
    "outputId": "f6645ff8-e284-4b5a-812e-793044b4a952"
   },
   "outputs": [],
   "source": [
    "!pip install ta\n",
    "!pip install investpy\n",
    "!pip install plotly"
   ]
  },
  {
   "cell_type": "markdown",
   "metadata": {
    "id": "DXhmQ9n1ZzgP"
   },
   "source": [
    "## 2. Importando bibliotecas\n",
    "\n",
    "Nessa seção iremos importar as bibliotecas para construção das análises. Observem que importamos também dois submódulos da biblioteca Plotly: graph objects para construção dos gráficos dinâmicos e make_subplots para quando precisarmos utilizar dois gráficos na mesma figura."
   ]
  },
  {
   "cell_type": "code",
   "execution_count": null,
   "metadata": {
    "id": "5Vx9P9SrhCyW"
   },
   "outputs": [],
   "source": [
    "import ta\n",
    "import investpy\n",
    "import pandas as pd\n",
    "import plotly.graph_objects as go\n",
    "from plotly.subplots import make_subplots"
   ]
  },
  {
   "cell_type": "markdown",
   "metadata": {
    "id": "-k0UGfcbhMNi"
   },
   "source": [
    "## 3. Capturando Dados\n",
    "\n",
    "Iremos capturar os dados através da biblioteca investpy e traremos 3 ações diferentes para observarmos diferentes comportamentos dos indicadores"
   ]
  },
  {
   "cell_type": "code",
   "execution_count": null,
   "metadata": {
    "id": "KO-kns84hJXn"
   },
   "outputs": [],
   "source": [
    "#DF 1 - BRMalls\n",
    "\n",
    "df = investpy.get_stock_historical_data(stock='BRML3', country='Brazil', from_date='01/01/2019', to_date='30/03/2021')"
   ]
  },
  {
   "cell_type": "code",
   "execution_count": null,
   "metadata": {
    "colab": {
     "base_uri": "https://localhost:8080/",
     "height": 455
    },
    "executionInfo": {
     "elapsed": 5,
     "status": "ok",
     "timestamp": 1648494000961,
     "user": {
      "displayName": "Arthur Rufino",
      "photoUrl": "https://lh3.googleusercontent.com/a/default-user=s64",
      "userId": "15163371346106554840"
     },
     "user_tz": 180
    },
    "id": "TX9xOfTxhhWO",
    "outputId": "66f314a0-02ac-4af2-979b-2d5e4883b54a"
   },
   "outputs": [],
   "source": [
    "df"
   ]
  },
  {
   "cell_type": "code",
   "execution_count": null,
   "metadata": {
    "colab": {
     "base_uri": "https://localhost:8080/",
     "height": 455
    },
    "executionInfo": {
     "elapsed": 880,
     "status": "ok",
     "timestamp": 1648494001837,
     "user": {
      "displayName": "Arthur Rufino",
      "photoUrl": "https://lh3.googleusercontent.com/a/default-user=s64",
      "userId": "15163371346106554840"
     },
     "user_tz": 180
    },
    "id": "kb0hYYdMaY2d",
    "outputId": "e7ee95a3-e8ec-4e68-d9ef-5968cbdbaaaa"
   },
   "outputs": [],
   "source": [
    "#DF2 - Petrobrás\n",
    "\n",
    "df2 = investpy.get_stock_historical_data(stock='PETR4', country='Brazil', from_date='01/01/2019', to_date='30/03/2021')\n",
    "\n",
    "df2"
   ]
  },
  {
   "cell_type": "code",
   "execution_count": null,
   "metadata": {
    "colab": {
     "base_uri": "https://localhost:8080/",
     "height": 455
    },
    "executionInfo": {
     "elapsed": 587,
     "status": "ok",
     "timestamp": 1648494002420,
     "user": {
      "displayName": "Arthur Rufino",
      "photoUrl": "https://lh3.googleusercontent.com/a/default-user=s64",
      "userId": "15163371346106554840"
     },
     "user_tz": 180
    },
    "id": "x2Yq_-B2agd9",
    "outputId": "c13465f2-f501-4d03-e779-f26a496c31ed"
   },
   "outputs": [],
   "source": [
    "#DF3 - WEG Industries\n",
    "\n",
    "df3 = investpy.get_stock_historical_data(stock='WEGE3', country='Brazil', from_date='01/01/2019', to_date='30/03/2021')\n",
    "\n",
    "df3"
   ]
  },
  {
   "cell_type": "markdown",
   "metadata": {
    "id": "HcFbdwgtiJOr"
   },
   "source": [
    "## 4. Estrutura de programação da Plotly"
   ]
  },
  {
   "cell_type": "markdown",
   "metadata": {
    "id": "5-SK_qI7a9D8"
   },
   "source": [
    "### 4.1. Gráficos  de linhas"
   ]
  },
  {
   "cell_type": "code",
   "execution_count": null,
   "metadata": {
    "colab": {
     "base_uri": "https://localhost:8080/",
     "height": 542
    },
    "executionInfo": {
     "elapsed": 1001,
     "status": "ok",
     "timestamp": 1648494003419,
     "user": {
      "displayName": "Arthur Rufino",
      "photoUrl": "https://lh3.googleusercontent.com/a/default-user=s64",
      "userId": "15163371346106554840"
     },
     "user_tz": 180
    },
    "id": "hcwFm-HLbAjM",
    "outputId": "12903d5e-10f5-4688-d3f2-257998a9040d"
   },
   "outputs": [],
   "source": [
    "fig = go.Figure()\n",
    "fig.add_trace(go.Scatter(name='PETR4', x=df.index, y=df['Close']))\n",
    "fig.update_layout(title_text='Gráfico de Linhas',template = 'simple_white',)\n",
    "fig.show()\n"
   ]
  },
  {
   "cell_type": "markdown",
   "metadata": {
    "id": "52R27RaJbFOJ"
   },
   "source": [
    "### 4.2. Gráfico de candlestick"
   ]
  },
  {
   "cell_type": "code",
   "execution_count": null,
   "metadata": {
    "colab": {
     "base_uri": "https://localhost:8080/",
     "height": 542
    },
    "executionInfo": {
     "elapsed": 625,
     "status": "ok",
     "timestamp": 1648494004039,
     "user": {
      "displayName": "Arthur Rufino",
      "photoUrl": "https://lh3.googleusercontent.com/a/default-user=s64",
      "userId": "15163371346106554840"
     },
     "user_tz": 180
    },
    "id": "mA2PGcZ4bHtf",
    "outputId": "84626bce-63b0-455d-daa0-f43deabd9cb9"
   },
   "outputs": [],
   "source": [
    "fig = go.Figure()\n",
    "fig.add_trace(go.Candlestick(name='BRML3', x=df.index, close=df['Close'], open=df['Open'], high = df['High'], low=df['Low']))\n",
    "fig.update_layout(xaxis_rangeslider_visible=False, title_text='Gráfico de Candlestick')\n",
    "fig.show()"
   ]
  },
  {
   "cell_type": "markdown",
   "metadata": {
    "id": "deYgjwwQ32m_"
   },
   "source": [
    "### 4.3. Gráfico de barras\n"
   ]
  },
  {
   "cell_type": "code",
   "execution_count": null,
   "metadata": {
    "colab": {
     "base_uri": "https://localhost:8080/",
     "height": 542
    },
    "executionInfo": {
     "elapsed": 6,
     "status": "ok",
     "timestamp": 1648494004040,
     "user": {
      "displayName": "Arthur Rufino",
      "photoUrl": "https://lh3.googleusercontent.com/a/default-user=s64",
      "userId": "15163371346106554840"
     },
     "user_tz": 180
    },
    "id": "LcFmfANn35zZ",
    "outputId": "e647b10f-c743-4d9c-c97d-1504e11935d5"
   },
   "outputs": [],
   "source": [
    "fig = go.Figure()\n",
    "fig.add_trace(go.Ohlc(name='BRML3', x=df.index, close=df['Close'], open=df['Open'], high = df['High'], low=df['Low']))\n",
    "fig.update_layout(xaxis_rangeslider_visible=False, title_text='Gráfico de Barras')\n",
    "fig.show()"
   ]
  },
  {
   "cell_type": "markdown",
   "metadata": {
    "id": "lpyerIDrbcjP"
   },
   "source": [
    "## 5. Indicadores\n",
    "\n",
    "Nesta seção dividiremos em:\n",
    "\n",
    "- Indicadores de momentum\n",
    "- Indicadores de volatilidade\n",
    "- Indicadores de tendência\n",
    "- Indicadores de volume\n",
    "- Osciladores"
   ]
  },
  {
   "cell_type": "markdown",
   "metadata": {
    "id": "YBJ7okNOb_R2"
   },
   "source": [
    "## 5.1. Indicadores de Momentum\n",
    "\n",
    "Momentum é um conceito da física que mede a taxa de aumento ou diminuicação de velocidade de um objeto. Na análise técnica o mesmo conceito é aplicado aos preços buscando entender se uma tendência está em aceleração ou desaceleração."
   ]
  },
  {
   "cell_type": "markdown",
   "metadata": {
    "id": "BJA5JsjBMicY"
   },
   "source": [
    "### 5.1.1. Rate of Change"
   ]
  },
  {
   "cell_type": "code",
   "execution_count": null,
   "metadata": {
    "id": "bgogPynuMRhc"
   },
   "outputs": [],
   "source": [
    "#Importando da biblioteca TA o indicador\n",
    "\n",
    "from ta.momentum import ROCIndicator"
   ]
  },
  {
   "cell_type": "code",
   "execution_count": null,
   "metadata": {
    "id": "dG2pj2DBM5ey"
   },
   "outputs": [],
   "source": [
    "#Adicionando o indicador ao dataframe\n",
    "\n",
    "roc = ROCIndicator(df['Close'])\n",
    "df['ROC'] = roc.roc()"
   ]
  },
  {
   "cell_type": "code",
   "execution_count": null,
   "metadata": {
    "colab": {
     "base_uri": "https://localhost:8080/",
     "height": 542
    },
    "executionInfo": {
     "elapsed": 502,
     "status": "ok",
     "timestamp": 1648494024314,
     "user": {
      "displayName": "Arthur Rufino",
      "photoUrl": "https://lh3.googleusercontent.com/a/default-user=s64",
      "userId": "15163371346106554840"
     },
     "user_tz": 180
    },
    "id": "DCQHBuMJM68z",
    "outputId": "05229f7e-d4db-43b7-8c26-6c9498a6dfb6"
   },
   "outputs": [],
   "source": [
    "#Construindo a figura do gráfico\n",
    "\n",
    "fig = go.Figure()\n",
    "    \n",
    "fig = make_subplots(rows=2, cols=1)\n",
    "fig.add_trace(go.Scatter(name='ROC',x=df.index, y=df['ROC']), row=2, col=1)\n",
    "fig.add_trace(go.Candlestick(name='BRML3',x=df.index, close=df['Close'], open=df['Open'],high=df['High'], low=df['Low']),row=1,col=1)\n",
    "fig.update_layout(xaxis_rangeslider_visible=False, title_text='ROC BRML3')\n",
    "fig.show()"
   ]
  },
  {
   "cell_type": "code",
   "execution_count": null,
   "metadata": {
    "colab": {
     "base_uri": "https://localhost:8080/",
     "height": 455
    },
    "executionInfo": {
     "elapsed": 259,
     "status": "ok",
     "timestamp": 1648494096849,
     "user": {
      "displayName": "Arthur Rufino",
      "photoUrl": "https://lh3.googleusercontent.com/a/default-user=s64",
      "userId": "15163371346106554840"
     },
     "user_tz": 180
    },
    "id": "q2yH3qy09Ux2",
    "outputId": "00550229-cfc9-432b-d092-d00f9711108a"
   },
   "outputs": [],
   "source": [
    "roc2 = ROCIndicator(df2['Close'])\n",
    "df2['ROC'] = roc2.roc()\n",
    "df2"
   ]
  },
  {
   "cell_type": "code",
   "execution_count": null,
   "metadata": {
    "colab": {
     "base_uri": "https://localhost:8080/",
     "height": 542
    },
    "executionInfo": {
     "elapsed": 329,
     "status": "ok",
     "timestamp": 1648494100294,
     "user": {
      "displayName": "Arthur Rufino",
      "photoUrl": "https://lh3.googleusercontent.com/a/default-user=s64",
      "userId": "15163371346106554840"
     },
     "user_tz": 180
    },
    "id": "GG-Szm7u9ZL0",
    "outputId": "0dc2bad8-7a26-444a-af1b-7777271c88b3"
   },
   "outputs": [],
   "source": [
    "fig = go.Figure()\n",
    "fig = make_subplots(rows=2, cols=1)\n",
    "fig.add_trace(go.Scatter(name='ROC', x=df2.index, y=df2['ROC']), row=2, col=1)\n",
    "fig.add_trace(go.Candlestick(name='PETR4', x=df2.index, close=df2['Close'], open=df2['Open'], high=df2['High'], low=df2['Low']), row=1, col=1)\n",
    "fig.update_layout(xaxis_rangeslider_visible=False, title_text='ROC PETR4')\n",
    "fig.show()"
   ]
  },
  {
   "cell_type": "markdown",
   "metadata": {
    "id": "zBZ1oHgaJ2JP"
   },
   "source": [
    "### 5.1.2. Percentage Price Oscillator (PPO)\n",
    "\n",
    "- O PPO é positivo quando a média móvel mais curta está acima da média móvel mais longa. Isso reflete um forte impulso de alta. \n",
    "- O PPO é negativo quando a média móvel mais curta está abaixo da média móvel mais longa. As leituras negativas crescem quando a média móvel mais curta se distancia da média móvel mais longa (fica ainda mais negativa). \n",
    "-Isso reflete um forte impulso de baixa. \n",
    "-O histograma representa a diferença entre o PPO e sua EMA de 9 dias, a linha de sinal. \n",
    "-O histograma é positivo quando o PPO está acima de sua EMA de 9 dias e negativo quando o PPO está abaixo de sua EMA de 9 dias. -\n",
    "O PPO-Histograma pode ser usado para antecipar cruzamentos de linha de sinal no PPO"
   ]
  },
  {
   "cell_type": "code",
   "execution_count": null,
   "metadata": {
    "id": "mwKzcxy3xe2f"
   },
   "outputs": [],
   "source": [
    "from ta.momentum import PercentagePriceOscillator"
   ]
  },
  {
   "cell_type": "code",
   "execution_count": null,
   "metadata": {
    "id": "d0_YZlwLKVxH"
   },
   "outputs": [],
   "source": [
    "PPO = PercentagePriceOscillator(df['Close'])\n",
    "df['PPO'] = PPO.ppo()\n",
    "df['PPO_hist'] = PPO.ppo_hist()\n",
    "df['PPO_line'] = PPO.ppo_signal()"
   ]
  },
  {
   "cell_type": "code",
   "execution_count": null,
   "metadata": {
    "colab": {
     "base_uri": "https://localhost:8080/",
     "height": 542
    },
    "executionInfo": {
     "elapsed": 900,
     "status": "ok",
     "timestamp": 1648494117216,
     "user": {
      "displayName": "Arthur Rufino",
      "photoUrl": "https://lh3.googleusercontent.com/a/default-user=s64",
      "userId": "15163371346106554840"
     },
     "user_tz": 180
    },
    "id": "Y6EDsglPMQuV",
    "outputId": "996f306c-a4c2-41ce-ea96-e55290945778"
   },
   "outputs": [],
   "source": [
    "fig = make_subplots(rows=2, cols=1, specs =[[{\"secondary_y\": True}],[{\"secondary_y\": True}]])\n",
    "fig.add_trace(go.Scatter(name='PPO', x=df.index, y=df['PPO']), row=2,col=1)\n",
    "fig.add_trace(go.Bar(name='PPO_hist', x=df.index, y=df['PPO_hist']), row=2, col=1, secondary_y=True)\n",
    "fig.add_trace(go.Scatter(name='PPO_line', x=df.index, y=df['PPO_line']), row=2, col=1)\n",
    "fig.add_trace(go.Candlestick(name='BRML3', x=df.index, close=df['Close'], open=df['Open'], high=df['High'], low=df['Low']))\n",
    "fig.update_layout(xaxis_rangeslider_visible=False, title_text='PPO BRML3')\n",
    "fig.show()"
   ]
  },
  {
   "cell_type": "code",
   "execution_count": null,
   "metadata": {
    "id": "xr2AjGx46MGE"
   },
   "outputs": [],
   "source": [
    "#Percentage Price Oscillator WEGE3\n",
    "PPO3 = PercentagePriceOscillator(df3['Close'])\n",
    "df3['PPO'] = PPO3.ppo()\n",
    "df3['PPO_hist'] = PPO3.ppo_hist()\n",
    "df3['PPO_line'] = PPO3.ppo_signal()"
   ]
  },
  {
   "cell_type": "markdown",
   "metadata": {
    "id": "w0JYc5WacYVF"
   },
   "source": [
    "## 5.2. Osciladores\n",
    "\n",
    "Osciladores são indicadores que auxiliam a identificar se o ativo está sobrecomprado - força compradora está se esgotando, ou sobrevendido - o oposto da situação anterior onde a força vendedora está enfraquecendo."
   ]
  },
  {
   "cell_type": "markdown",
   "metadata": {
    "id": "-EOIlHNIceXP"
   },
   "source": [
    "### 5.2.1. Índice de força relativa (IFR)\n",
    "\n",
    "<p>\n",
    "$ IFR = 100 - {\\left(\\frac{100}{1 + {\\left(\\frac{A}{B}\\right)}}\\right)} $\n",
    "\n",
    "Onde:<p>\n",
    "*A* = média dos preços dos últimos períodos de alta (usualmente fechamento e 14 períodos);<p>\n",
    "*B* = média dos preços dos últimos períodos de baixa.<p>"
   ]
  },
  {
   "cell_type": "code",
   "execution_count": null,
   "metadata": {
    "id": "08cqKb6BLdAc"
   },
   "outputs": [],
   "source": [
    "from ta.momentum import RSIIndicator\n"
   ]
  },
  {
   "cell_type": "code",
   "execution_count": null,
   "metadata": {
    "id": "YtGaiU-5lSKs"
   },
   "outputs": [],
   "source": [
    "#Inicializando indicador RSI\n",
    "\n",
    "rsi = RSIIndicator(close=df['Close'],window=30)\n",
    "df['RSI'] = rsi.rsi()"
   ]
  },
  {
   "cell_type": "code",
   "execution_count": null,
   "metadata": {
    "colab": {
     "base_uri": "https://localhost:8080/",
     "height": 542
    },
    "executionInfo": {
     "elapsed": 288,
     "status": "ok",
     "timestamp": 1648244354664,
     "user": {
      "displayName": "Arthur Rufino",
      "photoUrl": "https://lh3.googleusercontent.com/a/default-user=s64",
      "userId": "15163371346106554840"
     },
     "user_tz": 180
    },
    "id": "Hjzjsh9xt5R0",
    "outputId": "eedbf58a-51ac-4dec-8b0e-a0d7f45d8899"
   },
   "outputs": [],
   "source": [
    "#Gráfico Preços/RSI\n",
    "\n",
    "fig = make_subplots(rows=2, cols=1)\n",
    "fig.add_trace(go.Scatter(name='RSI',x=df.index, y=df['RSI']), row=2, col=1)\n",
    "fig.add_trace(go.Candlestick(name='BRML3',x=df.index, close=df['Close'], open=df['Open'],high=df['High'], low=df['Low']),row=1,col=1)\n",
    "fig.update_layout(xaxis_rangeslider_visible=False)\n",
    "fig.show()"
   ]
  },
  {
   "cell_type": "code",
   "execution_count": null,
   "metadata": {
    "colab": {
     "base_uri": "https://localhost:8080/",
     "height": 542
    },
    "executionInfo": {
     "elapsed": 601,
     "status": "ok",
     "timestamp": 1648244433257,
     "user": {
      "displayName": "Arthur Rufino",
      "photoUrl": "https://lh3.googleusercontent.com/a/default-user=s64",
      "userId": "15163371346106554840"
     },
     "user_tz": 180
    },
    "id": "4F7jbTYDA--w",
    "outputId": "b3b36fc0-b00f-4d79-b2fc-67e39de24483"
   },
   "outputs": [],
   "source": [
    "#RSI PETR4\n",
    "\n",
    "rsi2 = RSIIndicator(close=df2['Close'],window=30)\n",
    "df2['RSI'] = rsi2.rsi()\n",
    "\n",
    "fig = make_subplots(rows=2, cols=1)\n",
    "fig.add_trace(go.Scatter(name='RSI',x=df.index, y=df2['RSI']), row=2, col=1)\n",
    "fig.add_trace(go.Candlestick(name='PETR4',x=df.index, close=df2['Close'], open=df2['Open'],high=df2['High'], low=df2['Low']),row=1,col=1)\n",
    "fig.update_layout(xaxis_rangeslider_visible=False, title_text='RSI PETR4')\n",
    "fig.show()\n"
   ]
  },
  {
   "cell_type": "markdown",
   "metadata": {
    "id": "-r7Qvktfc9yE"
   },
   "source": [
    "### 5.2.2. Oscilador estocástico"
   ]
  },
  {
   "cell_type": "code",
   "execution_count": null,
   "metadata": {
    "id": "OEmp2DUWdrRx"
   },
   "outputs": [],
   "source": [
    "from ta.momentum import StochasticOscillator"
   ]
  },
  {
   "cell_type": "code",
   "execution_count": null,
   "metadata": {
    "id": "3u8Y_0eWdwS8"
   },
   "outputs": [],
   "source": [
    "so = StochasticOscillator(high= df['High'], low= df['Low'],close=df['Close'],window=14)\n",
    "df['SO'] = so.stoch()"
   ]
  },
  {
   "cell_type": "code",
   "execution_count": null,
   "metadata": {
    "colab": {
     "base_uri": "https://localhost:8080/",
     "height": 542
    },
    "executionInfo": {
     "elapsed": 5,
     "status": "ok",
     "timestamp": 1648244491304,
     "user": {
      "displayName": "Arthur Rufino",
      "photoUrl": "https://lh3.googleusercontent.com/a/default-user=s64",
      "userId": "15163371346106554840"
     },
     "user_tz": 180
    },
    "id": "4eMZPplNeL6d",
    "outputId": "3715581c-1803-4c4d-9e4f-596e0dc08c65"
   },
   "outputs": [],
   "source": [
    "fig = make_subplots(rows=2, cols=1)\n",
    "fig.add_trace(go.Scatter(name='SO',x=df.index, y=df['SO']), row=2, col=1)\n",
    "fig.add_trace(go.Candlestick(name='BRML3',x=df.index, close=df['Close'], open=df['Open'],high=df['High'], low=df['Low']),row=1,col=1)\n",
    "fig.update_layout(xaxis_rangeslider_visible=False)\n",
    "fig.show()"
   ]
  },
  {
   "cell_type": "code",
   "execution_count": null,
   "metadata": {
    "colab": {
     "base_uri": "https://localhost:8080/",
     "height": 542
    },
    "executionInfo": {
     "elapsed": 314,
     "status": "ok",
     "timestamp": 1648244954080,
     "user": {
      "displayName": "Arthur Rufino",
      "photoUrl": "https://lh3.googleusercontent.com/a/default-user=s64",
      "userId": "15163371346106554840"
     },
     "user_tz": 180
    },
    "id": "f_j7CZ2tBw8v",
    "outputId": "41b579b7-f89a-485e-f641-e80015dad6d6"
   },
   "outputs": [],
   "source": [
    "#Oscilador estocastico WEG3\n",
    "\n",
    "so3 = StochasticOscillator(high= df3['High'], low= df3['Low'],close=df3['Close'],window=14)\n",
    "df3['SO'] = so3.stoch_signal()\n",
    "\n",
    "fig = make_subplots(rows=2, cols=1)\n",
    "fig.add_trace(go.Scatter(name='SO',x=df3.index, y=df3['SO']), row=2, col=1)\n",
    "fig.add_trace(go.Candlestick(name='WEGE3',x=df3.index, close=df3['Close'], open=df3['Open'],high=df3['High'], low=df3['Low']),row=1,col=1)\n",
    "fig.update_layout(xaxis_rangeslider_visible=False, title_text='SO WEG3')\n",
    "fig.show()"
   ]
  },
  {
   "cell_type": "markdown",
   "metadata": {
    "id": "t0p4zEXHeVMe"
   },
   "source": [
    "## 5.3. Indicadores de volatilidade"
   ]
  },
  {
   "cell_type": "markdown",
   "metadata": {
    "id": "_v7YibjEerH9"
   },
   "source": [
    "### 5.3.1. Bandas de Bollinger"
   ]
  },
  {
   "cell_type": "code",
   "execution_count": null,
   "metadata": {
    "id": "luuJf3CgQ2JS"
   },
   "outputs": [],
   "source": [
    "from ta.volatility import BollingerBands"
   ]
  },
  {
   "cell_type": "code",
   "execution_count": null,
   "metadata": {
    "id": "ldWFRvsjfWYd"
   },
   "outputs": [],
   "source": [
    "bb = BollingerBands(close=df['Close'], window=20, window_dev=2)\n",
    "df['bb_bbm'] = bb.bollinger_mavg()\n",
    "df['bb_bbh'] = bb.bollinger_hband()\n",
    "df['bb_bbl'] = bb.bollinger_lband()"
   ]
  },
  {
   "cell_type": "code",
   "execution_count": null,
   "metadata": {
    "colab": {
     "base_uri": "https://localhost:8080/",
     "height": 542
    },
    "executionInfo": {
     "elapsed": 8,
     "status": "ok",
     "timestamp": 1648495993232,
     "user": {
      "displayName": "Arthur Rufino",
      "photoUrl": "https://lh3.googleusercontent.com/a/default-user=s64",
      "userId": "15163371346106554840"
     },
     "user_tz": 180
    },
    "id": "eojXW_vwfsp2",
    "outputId": "2ef809a4-0355-4877-a3bd-32739eb30d8b"
   },
   "outputs": [],
   "source": [
    "fig = go.Figure()\n",
    "fig.add_trace(go.Scatter(name='MédiaMovel', x= df.index, y=df['bb_bbm']))\n",
    "fig.add_trace(go.Candlestick(name='BRML3', x=df.index, close=df['Close'], open=df['Open'], high = df['High'], low=df['Low']))\n",
    "fig.add_trace(go.Scatter(name='Banda Superior', x=df.index, y=df['bb_bbh']))\n",
    "fig.add_trace(go.Scatter(name='Banda inferior', x=df.index, y=df['bb_bbl']))\n",
    "fig.update_layout(xaxis_rangeslider_visible=False, title_text='Bollinger Bands')\n",
    "fig.show()"
   ]
  },
  {
   "cell_type": "code",
   "execution_count": null,
   "metadata": {
    "colab": {
     "base_uri": "https://localhost:8080/",
     "height": 542
    },
    "executionInfo": {
     "elapsed": 498,
     "status": "ok",
     "timestamp": 1648495996573,
     "user": {
      "displayName": "Arthur Rufino",
      "photoUrl": "https://lh3.googleusercontent.com/a/default-user=s64",
      "userId": "15163371346106554840"
     },
     "user_tz": 180
    },
    "id": "HGCHKzcHHejk",
    "outputId": "89720843-6766-4bb8-c005-a0a2ba715400"
   },
   "outputs": [],
   "source": [
    "#BB para PETR4\n",
    "\n",
    "bb2 = BollingerBands(close=df2['Close'], window=20, window_dev=2)\n",
    "df2['bb_bbm'] = bb2.bollinger_mavg()\n",
    "df2['bb_bbh'] = bb2.bollinger_hband()\n",
    "df2['bb_bbl'] = bb2.bollinger_lband()\n",
    "\n",
    "\n",
    "fig = go.Figure()\n",
    "fig.add_trace(go.Scatter(name='MédiaMovel', x= df2.index, y=df2['bb_bbm']))\n",
    "fig.add_trace(go.Candlestick(name='PETR4', x=df2.index, close=df2['Close'], open=df2['Open'], high = df2['High'], low=df2['Low']))\n",
    "fig.add_trace(go.Scatter(name='Banda Superior', x=df2.index, y=df2['bb_bbh']))\n",
    "fig.add_trace(go.Scatter(name='Banda inferior', x=df2.index, y=df2['bb_bbl']))\n",
    "fig.update_layout(xaxis_rangeslider_visible=False, title_text='PETR4 Bollinger Bands')\n",
    "fig.show()"
   ]
  },
  {
   "cell_type": "markdown",
   "metadata": {
    "id": "O9d5WH8OgjO6"
   },
   "source": [
    "### 5.3.2. ATR - Average True Range"
   ]
  },
  {
   "cell_type": "code",
   "execution_count": null,
   "metadata": {
    "id": "q6UWYQDFgi4o"
   },
   "outputs": [],
   "source": [
    "from ta.volatility import AverageTrueRange"
   ]
  },
  {
   "cell_type": "code",
   "execution_count": null,
   "metadata": {
    "id": "sgKAvclog2tX"
   },
   "outputs": [],
   "source": [
    "atr = AverageTrueRange(df['High'], df['Low'], df['Close'])\n",
    "\n",
    "df['ATR'] = atr.average_true_range()"
   ]
  },
  {
   "cell_type": "code",
   "execution_count": null,
   "metadata": {
    "colab": {
     "base_uri": "https://localhost:8080/",
     "height": 542
    },
    "executionInfo": {
     "elapsed": 3,
     "status": "ok",
     "timestamp": 1648494794136,
     "user": {
      "displayName": "Arthur Rufino",
      "photoUrl": "https://lh3.googleusercontent.com/a/default-user=s64",
      "userId": "15163371346106554840"
     },
     "user_tz": 180
    },
    "id": "EqW1a-EUg_zO",
    "outputId": "1fac2ccf-43fe-4756-b3f0-bb7bbd389370"
   },
   "outputs": [],
   "source": [
    "fig = make_subplots(rows=2,cols=1)\n",
    "fig.add_trace(go.Scatter(name='ATR', x=df.index, y=df['ATR']), row=2, col=1)\n",
    "fig.add_trace(go.Candlestick(name='BRML3', x=df.index, close=df['Close'], open=df['Open'], high = df['High'], low=df['Low']), row=1, col=1)\n",
    "fig.update_layout(xaxis_rangeslider_visible=False, title_text = 'ATR')\n",
    "fig.show()"
   ]
  },
  {
   "cell_type": "code",
   "execution_count": null,
   "metadata": {
    "colab": {
     "base_uri": "https://localhost:8080/",
     "height": 542
    },
    "executionInfo": {
     "elapsed": 536,
     "status": "ok",
     "timestamp": 1648494795909,
     "user": {
      "displayName": "Arthur Rufino",
      "photoUrl": "https://lh3.googleusercontent.com/a/default-user=s64",
      "userId": "15163371346106554840"
     },
     "user_tz": 180
    },
    "id": "-aHqlW0g8VfT",
    "outputId": "443596f8-7f2d-4f90-a83d-cb9cb6ee357e"
   },
   "outputs": [],
   "source": [
    "#WEGE3 ATR\n",
    "\n",
    "atr = AverageTrueRange(df3['High'], df3['Low'], df3['Close'])\n",
    "\n",
    "df3['ATR'] = atr.average_true_range()\n",
    "\n",
    "fig = make_subplots(rows=2,cols=1)\n",
    "fig.add_trace(go.Scatter(name='ATR', x=df3.index, y=df3['ATR']), row=2, col=1)\n",
    "fig.add_trace(go.Candlestick(name='BRML3', x=df.index, close=df3['Close'], open=df3['Open'], high = df3['High'], low=df3['Low']), row=1, col=1)\n",
    "fig.update_layout(xaxis_rangeslider_visible=False, title_text = 'WEGE3 ATR')\n",
    "fig.show()"
   ]
  },
  {
   "cell_type": "markdown",
   "metadata": {
    "id": "3YRPqf8VpKS9"
   },
   "source": [
    "# 5.4. Indicadores de tendência\n",
    "\n",
    "Indicadores de tendência buscam captar sinais de um movimento direcional do preço do ativo"
   ]
  },
  {
   "cell_type": "markdown",
   "metadata": {
    "id": "I_Ce3XXApNRc"
   },
   "source": [
    "### 5.4.1. MACD"
   ]
  },
  {
   "cell_type": "code",
   "execution_count": null,
   "metadata": {
    "id": "R5EAVOBsi_Ri"
   },
   "outputs": [],
   "source": [
    "from ta.trend import MACD"
   ]
  },
  {
   "cell_type": "code",
   "execution_count": null,
   "metadata": {
    "id": "_W90PRT5pmQ-"
   },
   "outputs": [],
   "source": [
    "macd = MACD(df['Close'])\n",
    "df['MACD_LINE'] = macd.macd()\n",
    "df['MACD_DIFF'] = macd.macd_diff()\n"
   ]
  },
  {
   "cell_type": "code",
   "execution_count": null,
   "metadata": {
    "colab": {
     "base_uri": "https://localhost:8080/",
     "height": 542
    },
    "executionInfo": {
     "elapsed": 7,
     "status": "ok",
     "timestamp": 1648495787388,
     "user": {
      "displayName": "Arthur Rufino",
      "photoUrl": "https://lh3.googleusercontent.com/a/default-user=s64",
      "userId": "15163371346106554840"
     },
     "user_tz": 180
    },
    "id": "LdDXZOPbpyvo",
    "outputId": "3070230a-dfa9-4766-9aca-91485967d78b"
   },
   "outputs": [],
   "source": [
    "fig = make_subplots(rows=2, cols=1)\n",
    "fig.add_trace(go.Bar(name='MACD', x=df.index, y=df['MACD_LINE']), row=2,col=1)\n",
    "fig.add_trace(go.Scatter(name='MACD_DIFF', x=df.index, y=df['MACD_DIFF']), row=2, col=1)\n",
    "fig.add_trace(go.Scatter(name='MACD_line', x=df.index, y=df['MACD_LINE']), row=2, col=1)\n",
    "fig.add_trace(go.Candlestick(name='BRML3', x=df.index, close=df['Close'], open=df['Open'], high = df['High'], low=df['Low']),row=1,col=1)\n",
    "fig.update_layout(xaxis_rangeslider_visible=False, title_text='MACD BRML3')\n",
    "fig.show()"
   ]
  },
  {
   "cell_type": "code",
   "execution_count": null,
   "metadata": {
    "colab": {
     "base_uri": "https://localhost:8080/",
     "height": 542
    },
    "executionInfo": {
     "elapsed": 426,
     "status": "ok",
     "timestamp": 1648495828266,
     "user": {
      "displayName": "Arthur Rufino",
      "photoUrl": "https://lh3.googleusercontent.com/a/default-user=s64",
      "userId": "15163371346106554840"
     },
     "user_tz": 180
    },
    "id": "Ixg3OCrVAPTq",
    "outputId": "584bb1cf-f38a-445e-fa35-3456cdba9f3a"
   },
   "outputs": [],
   "source": [
    "macd2 = MACD(df['Close'])\n",
    "df2['MACD_LINE'] = macd2.macd()\n",
    "df2['MACD_DIFF'] = macd2.macd_diff()\n",
    "\n",
    "fig = make_subplots(rows=2, cols=1)\n",
    "fig.add_trace(go.Bar(name='MACD', x=df2.index, y=df2['MACD_LINE']), row=2,col=1)\n",
    "fig.add_trace(go.Scatter(name='MACD_DIFF', x=df2.index, y=df2['MACD_DIFF']), row=2, col=1)\n",
    "fig.add_trace(go.Scatter(name='MACD_line', x=df2.index, y=df2['MACD_LINE']), row=2, col=1)\n",
    "fig.add_trace(go.Candlestick(name='BRML3', x=df2.index, close=df2['Close'], open=df2['Open'], high = df2['High'], low=df2['Low']),row=1,col=1)\n",
    "fig.update_layout(xaxis_rangeslider_visible=False, title_text='MACD WEGE3')\n",
    "fig.show()"
   ]
  },
  {
   "cell_type": "markdown",
   "metadata": {
    "id": "MT_62y0dqpxd"
   },
   "source": [
    "### 5.4.2. Simple Moving Average"
   ]
  },
  {
   "cell_type": "code",
   "execution_count": null,
   "metadata": {
    "id": "xI6fGjzrqe8l"
   },
   "outputs": [],
   "source": [
    "from ta.trend import SMAIndicator"
   ]
  },
  {
   "cell_type": "code",
   "execution_count": null,
   "metadata": {
    "id": "8fFBllZ0q3J9"
   },
   "outputs": [],
   "source": [
    "sma_short = SMAIndicator(df['Close'], window=5)\n",
    "sma_long = SMAIndicator(df['Close'], window=30)\n",
    "df['SMA_SHORT'] = sma_short.sma_indicator()\n",
    "df['SMA_LONG'] = sma_long.sma_indicator()"
   ]
  },
  {
   "cell_type": "code",
   "execution_count": null,
   "metadata": {
    "colab": {
     "base_uri": "https://localhost:8080/",
     "height": 542
    },
    "id": "z42WO_UnrJnI",
    "outputId": "71116676-6b07-4f22-f6b1-c8be31deeca5"
   },
   "outputs": [],
   "source": [
    "fig = go.Figure()\n",
    "\n",
    "fig.add_trace(go.Scatter(name='SMA_SHORT', x=df.index, y=df['SMA_SHORT']))\n",
    "fig.add_trace(go.Candlestick(name='BRML3', x=df.index, close=df['Close'], open=df['Open'], high = df['High'], low=df['Low']))\n",
    "fig.add_trace(go.Scatter(name='SMA_LONG', x=df.index, y=df['SMA_LONG']))\n",
    "fig.update_layout(xaxis_rangeslider_visible=False, title_text='Simple Moving Average')\n",
    "fig.show()"
   ]
  },
  {
   "cell_type": "markdown",
   "metadata": {
    "id": "v9DV-4Htr8dR"
   },
   "source": [
    "### 5.4.3. Média Móvel Exponencial - EMA"
   ]
  },
  {
   "cell_type": "code",
   "execution_count": null,
   "metadata": {
    "id": "Hr5LiQVUrr-W"
   },
   "outputs": [],
   "source": [
    "from ta.trend import EMAIndicator"
   ]
  },
  {
   "cell_type": "code",
   "execution_count": null,
   "metadata": {
    "id": "2J6RDlQRsZm2"
   },
   "outputs": [],
   "source": [
    "ema_short = EMAIndicator(df3['Close'], window=5)\n",
    "ema_long = EMAIndicator(df3['Close'], window=30)\n",
    "df3['EMA_SHORT'] = ema_short.ema_indicator()\n",
    "df3['EMA_LONG'] = ema_long.ema_indicator()"
   ]
  },
  {
   "cell_type": "code",
   "execution_count": null,
   "metadata": {
    "colab": {
     "base_uri": "https://localhost:8080/",
     "height": 542
    },
    "executionInfo": {
     "elapsed": 4,
     "status": "ok",
     "timestamp": 1648495901345,
     "user": {
      "displayName": "Arthur Rufino",
      "photoUrl": "https://lh3.googleusercontent.com/a/default-user=s64",
      "userId": "15163371346106554840"
     },
     "user_tz": 180
    },
    "id": "ZJD4VCVnsoZi",
    "outputId": "dff3ba82-609e-4acc-e0cc-c43539d4f8ec"
   },
   "outputs": [],
   "source": [
    "fig = go.Figure()\n",
    "fig.add_trace(go.Scatter(name='EMA_SHORT', x=df3.index, y=df3['EMA_SHORT']))\n",
    "fig.add_trace(go.Candlestick(name='WEGE3', x=df.index, close=df3['Close'], open=df3['Open'], high = df3['High'], low=df3['Low']))\n",
    "fig.add_trace(go.Scatter(name='EMA_LONG', x=df3.index, y=df3['EMA_LONG']))\n",
    "fig.update_layout(xaxis_rangeslider_visible=False, title_text='EMA WEGE3')\n",
    "fig.show()"
   ]
  },
  {
   "cell_type": "markdown",
   "metadata": {
    "id": "pWsRWdCzM-_m"
   },
   "source": [
    "## 5.5. Indicadores de Volume\n",
    "Indicadores de volume baseiam-se na quantidade negociada buscando compreender como as forças vendedoras e compradoras influenciam no preço"
   ]
  },
  {
   "cell_type": "markdown",
   "metadata": {
    "id": "00lD5kLSNCen"
   },
   "source": [
    "### 5.5.1. OBV - On Balance Volume"
   ]
  },
  {
   "cell_type": "code",
   "execution_count": null,
   "metadata": {
    "id": "o8UwKVKfNBsr"
   },
   "outputs": [],
   "source": [
    "from ta.volume import OnBalanceVolumeIndicator"
   ]
  },
  {
   "cell_type": "code",
   "execution_count": null,
   "metadata": {
    "id": "xhLR6HMZNhdw"
   },
   "outputs": [],
   "source": [
    "obv = OnBalanceVolumeIndicator(df2['Close'], df2['Volume'])\n",
    "df2['OBV'] = obv.on_balance_volume()"
   ]
  },
  {
   "cell_type": "code",
   "execution_count": null,
   "metadata": {
    "colab": {
     "base_uri": "https://localhost:8080/",
     "height": 542
    },
    "executionInfo": {
     "elapsed": 522,
     "status": "ok",
     "timestamp": 1648495946735,
     "user": {
      "displayName": "Arthur Rufino",
      "photoUrl": "https://lh3.googleusercontent.com/a/default-user=s64",
      "userId": "15163371346106554840"
     },
     "user_tz": 180
    },
    "id": "5bGui22uNpm4",
    "outputId": "b769f34a-750f-433f-9d87-02061280fe79"
   },
   "outputs": [],
   "source": [
    "fig = make_subplots(rows=2, cols=1)\n",
    "fig.add_trace(go.Bar(name='OBV', x=df2.index, y=df2['OBV']), row=2, col=1)\n",
    "fig.add_trace(go.Candlestick(name='PETR4', x=df.index, close=df2['Close'], open=df2['Open'], high=df2['High'], low=df2['Low']), row=1, col=1)\n",
    "fig.update_layout(xaxis_rangeslider_visible=False, title_text='OBV PETR4')\n",
    "fig.show()"
   ]
  },
  {
   "cell_type": "markdown",
   "metadata": {
    "id": "aVRmi6gHOfJZ"
   },
   "source": [
    "### 5.5.2. VWAP - Volume Weighted Average Price"
   ]
  },
  {
   "cell_type": "code",
   "execution_count": null,
   "metadata": {
    "id": "ekHIcLTtOQaR"
   },
   "outputs": [],
   "source": [
    "from ta.volume import VolumeWeightedAveragePrice"
   ]
  },
  {
   "cell_type": "code",
   "execution_count": null,
   "metadata": {
    "id": "TP6vHz2tO5nN"
   },
   "outputs": [],
   "source": [
    "vwap = VolumeWeightedAveragePrice(df['High'], df['Low'], df['Close'], df['Volume'])\n",
    "df['VWAP'] = vwap.volume_weighted_average_price()"
   ]
  },
  {
   "cell_type": "code",
   "execution_count": null,
   "metadata": {
    "colab": {
     "base_uri": "https://localhost:8080/",
     "height": 542
    },
    "executionInfo": {
     "elapsed": 348,
     "status": "ok",
     "timestamp": 1648495952800,
     "user": {
      "displayName": "Arthur Rufino",
      "photoUrl": "https://lh3.googleusercontent.com/a/default-user=s64",
      "userId": "15163371346106554840"
     },
     "user_tz": 180
    },
    "id": "8CDjNhhuPHf1",
    "outputId": "62a686d4-fd92-440d-e51d-0e98e738c598"
   },
   "outputs": [],
   "source": [
    "fig = go.Figure()\n",
    "\n",
    "fig.add_trace(go.Scatter(name='VWAP', x=df.index, y=df['VWAP']))\n",
    "fig.add_trace(go.Candlestick(name='BRML3', x=df.index, close=df['Close'], open=df['Open'], high=df['High'], low=df['Low']))\n",
    "fig.update_layout(xaxis_rangeslider_visible=False, title_text='VWAP')\n",
    "fig.show()"
   ]
  }
 ],
 "metadata": {
  "colab": {
   "name": "Python_para_Traders_Análise_Técnica.ipynb",
   "provenance": []
  },
  "kernelspec": {
   "display_name": "Python 3 (ipykernel)",
   "language": "python",
   "name": "python3"
  },
  "language_info": {
   "codemirror_mode": {
    "name": "ipython",
    "version": 3
   },
   "file_extension": ".py",
   "mimetype": "text/x-python",
   "name": "python",
   "nbconvert_exporter": "python",
   "pygments_lexer": "ipython3",
   "version": "3.9.12"
  }
 },
 "nbformat": 4,
 "nbformat_minor": 1
}
